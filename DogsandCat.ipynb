{
 "cells": [
  {
   "cell_type": "code",
   "execution_count": 21,
   "metadata": {},
   "outputs": [],
   "source": [
    "import os\n",
    "os.environ['TF_CPP_MIN_LOG_LEVEL']='2'\n",
    "import tensorflow as tf\n",
    "from keras.models import Sequential\n",
    "from keras.layers import Conv2D , MaxPooling2D , Flatten , Dense\n",
    "from keras.preprocessing.image import ImageDataGenerator"
   ]
  },
  {
   "cell_type": "code",
   "execution_count": 22,
   "metadata": {
    "collapsed": true
   },
   "outputs": [],
   "source": [
    "classifier =Sequential()"
   ]
  },
  {
   "cell_type": "code",
   "execution_count": 23,
   "metadata": {
    "collapsed": true
   },
   "outputs": [],
   "source": [
    "### Initializing the first layer\n",
    "classifier.add(Conv2D(32,(3,3),input_shape=(64,64,3),activation = 'relu'))"
   ]
  },
  {
   "cell_type": "code",
   "execution_count": 24,
   "metadata": {
    "collapsed": true
   },
   "outputs": [],
   "source": [
    "classifier.add(MaxPooling2D(pool_size=(2,2)))"
   ]
  },
  {
   "cell_type": "code",
   "execution_count": 25,
   "metadata": {
    "collapsed": true
   },
   "outputs": [],
   "source": [
    "classifier.add(Flatten())"
   ]
  },
  {
   "cell_type": "code",
   "execution_count": 26,
   "metadata": {
    "collapsed": true
   },
   "outputs": [],
   "source": [
    "classifier.add(Dense(units= 128 , activation = 'relu'))\n",
    "classifier.add(Dense(units=1,activation = 'sigmoid'))"
   ]
  },
  {
   "cell_type": "code",
   "execution_count": 27,
   "metadata": {
    "collapsed": true
   },
   "outputs": [],
   "source": [
    "classifier.compile(optimizer = 'adam',loss='binary_crossentropy',metrics = ['accuracy'])"
   ]
  },
  {
   "cell_type": "code",
   "execution_count": 28,
   "metadata": {
    "collapsed": true
   },
   "outputs": [],
   "source": [
    "train_data = ImageDataGenerator(rescale = 1./255,shear_range=0.2,zoom_range=0.2,horizontal_flip=True)\n",
    "test_data = ImageDataGenerator(rescale=1./255)"
   ]
  },
  {
   "cell_type": "code",
   "execution_count": 29,
   "metadata": {},
   "outputs": [
    {
     "name": "stdout",
     "output_type": "stream",
     "text": [
      "Found 8000 images belonging to 2 classes.\n",
      "Found 2000 images belonging to 2 classes.\n"
     ]
    }
   ],
   "source": [
    "train = train_data.flow_from_directory('dataset/training_set',target_size=(64,64),batch_size = 32,class_mode='binary')\n",
    "test = test_data.flow_from_directory('dataset/test_set',target_size=(64,64),batch_size=32,class_mode='binary')"
   ]
  },
  {
   "cell_type": "code",
   "execution_count": 30,
   "metadata": {},
   "outputs": [
    {
     "name": "stdout",
     "output_type": "stream",
     "text": [
      "Epoch 1/10\n",
      "8000/8000 [==============================] - 1936s - loss: 0.4356 - acc: 0.7913 - val_loss: 0.5310 - val_acc: 0.7778\n",
      "Epoch 2/10\n",
      "8000/8000 [==============================] - 1929s - loss: 0.2701 - acc: 0.8848 - val_loss: 0.6870 - val_acc: 0.7772\n",
      "Epoch 3/10\n",
      "8000/8000 [==============================] - 1894s - loss: 0.1905 - acc: 0.9226 - val_loss: 0.7944 - val_acc: 0.7652\n",
      "Epoch 4/10\n",
      "8000/8000 [==============================] - 1908s - loss: 0.1441 - acc: 0.9433 - val_loss: 0.8944 - val_acc: 0.7751\n",
      "Epoch 5/10\n",
      "8000/8000 [==============================] - 1896s - loss: 0.1117 - acc: 0.9578 - val_loss: 1.0171 - val_acc: 0.7666\n",
      "Epoch 6/10\n",
      "8000/8000 [==============================] - 1931s - loss: 0.0912 - acc: 0.9665 - val_loss: 1.1009 - val_acc: 0.7782\n",
      "Epoch 7/10\n",
      "8000/8000 [==============================] - 1921s - loss: 0.0773 - acc: 0.9721 - val_loss: 1.1708 - val_acc: 0.7754\n",
      "Epoch 8/10\n",
      "8000/8000 [==============================] - 1978s - loss: 0.0659 - acc: 0.9763 - val_loss: 1.2181 - val_acc: 0.7661\n",
      "Epoch 9/10\n",
      "8000/8000 [==============================] - 1988s - loss: 0.0572 - acc: 0.9795 - val_loss: 1.3011 - val_acc: 0.7836\n",
      "Epoch 10/10\n",
      "8000/8000 [==============================] - 1901s - loss: 0.0532 - acc: 0.9816 - val_loss: 1.2722 - val_acc: 0.7715\n"
     ]
    },
    {
     "data": {
      "text/plain": [
       "<keras.callbacks.History at 0x1cedc7f4d68>"
      ]
     },
     "execution_count": 30,
     "metadata": {},
     "output_type": "execute_result"
    }
   ],
   "source": [
    "classifier.fit_generator(train,steps_per_epoch=8000,epochs = 10,validation_data=test,validation_steps=2000)"
   ]
  },
  {
   "cell_type": "code",
   "execution_count": null,
   "metadata": {
    "collapsed": true
   },
   "outputs": [],
   "source": []
  },
  {
   "cell_type": "code",
   "execution_count": null,
   "metadata": {
    "collapsed": true
   },
   "outputs": [],
   "source": []
  },
  {
   "cell_type": "code",
   "execution_count": null,
   "metadata": {
    "collapsed": true
   },
   "outputs": [],
   "source": []
  },
  {
   "cell_type": "code",
   "execution_count": null,
   "metadata": {
    "collapsed": true
   },
   "outputs": [],
   "source": []
  }
 ],
 "metadata": {
  "kernelspec": {
   "display_name": "Python 3",
   "language": "python",
   "name": "python3"
  },
  "language_info": {
   "codemirror_mode": {
    "name": "ipython",
    "version": 3
   },
   "file_extension": ".py",
   "mimetype": "text/x-python",
   "name": "python",
   "nbconvert_exporter": "python",
   "pygments_lexer": "ipython3",
   "version": "3.6.1"
  }
 },
 "nbformat": 4,
 "nbformat_minor": 2
}
